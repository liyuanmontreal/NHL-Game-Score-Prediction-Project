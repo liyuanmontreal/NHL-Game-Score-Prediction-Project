{
 "cells": [
  {
   "cell_type": "markdown",
   "id": "296b0f27",
   "metadata": {},
   "source": [
    "# 🏒 Interactive Debugger Test / 交互调试工具测试\n",
    "\n",
    "This notebook demonstrates how to use the **interactive_debugger** module to explore NHL play-by-play data.\n",
    "\n",
    "本 Notebook 演示如何使用 `interactive_debugger` 模块交互式浏览 NHL 比赛事件数据。"
   ]
  },
  {
   "cell_type": "code",
   "execution_count": 7,
   "id": "dfe1f44b",
   "metadata": {},
   "outputs": [
    {
     "name": "stdout",
     "output_type": "stream",
     "text": [
      "The autoreload extension is already loaded. To reload it, use:\n",
      "  %reload_ext autoreload\n"
     ]
    }
   ],
   "source": [
    "# ensure autoreload when py file changed\n",
    "%load_ext autoreload\n",
    "%autoreload 2"
   ]
  },
  {
   "cell_type": "code",
   "execution_count": 8,
   "id": "c0e5b236",
   "metadata": {},
   "outputs": [
    {
     "name": "stdout",
     "output_type": "stream",
     "text": [
      "[INFO] Current working directory: c:\\Projects\n"
     ]
    }
   ],
   "source": [
    "# ✅ Step 1: Adjust path to include project root\n",
    "import os, sys\n",
    "ROOT = os.path.abspath(os.path.join(os.getcwd(), \"..\"))\n",
    "if ROOT not in sys.path:\n",
    "    sys.path.append(ROOT)\n",
    "os.chdir(ROOT)\n",
    "print(f\"[INFO] Current working directory: {os.getcwd()}\")"
   ]
  },
  {
   "cell_type": "markdown",
   "id": "8cdf562a",
   "metadata": {},
   "source": [
    "### Step 2️⃣  Import the Interactive Debugger 模块导入\n",
    "If the import fails, double-check that `src/visualization/interactive_debugger.py` exists.\n",
    "如果导入失败，请确认文件路径正确。"
   ]
  },
  {
   "cell_type": "code",
   "execution_count": 9,
   "id": "4b165f05",
   "metadata": {},
   "outputs": [
    {
     "name": "stdout",
     "output_type": "stream",
     "text": [
      "[INFO] interactive_debugger imported successfully ✅\n"
     ]
    }
   ],
   "source": [
    "from src.visualization.interactive_debugger import interactive_debugger\n",
    "print(\"[INFO] interactive_debugger imported successfully ✅\")"
   ]
  },
  {
   "cell_type": "markdown",
   "id": "93bb12c0",
   "metadata": {},
   "source": [
    "### Step 3️⃣  Run the debugger / 运行交互调试器\n",
    "You can either:\n",
    "1. Specify a **season** (e.g., `20222023`) to filter games.\n",
    "2. Or set `all_games=True` to load all games in `data/raw/`.\n",
    "\n",
    "你可以选择：\n",
    "1. 指定赛季（例如 `20222023`）\n",
    "2. 或使用 `all_games=True` 加载所有比赛"
   ]
  },
  {
   "cell_type": "code",
   "execution_count": 10,
   "id": "5a1b9fda",
   "metadata": {},
   "outputs": [
    {
     "data": {
      "application/vnd.jupyter.widget-view+json": {
       "model_id": "df8a24d86d1d49e4839616bb53c96830",
       "version_major": 2,
       "version_minor": 0
      },
      "text/plain": [
       "interactive(children=(Dropdown(description='Game 比赛:', options=('2022020001', '2022020002', '2022020003', '202…"
      ]
     },
     "metadata": {},
     "output_type": "display_data"
    },
    {
     "data": {
      "application/vnd.jupyter.widget-view+json": {
       "model_id": "d16dacd8214d49748ca9078e2b8871d2",
       "version_major": 2,
       "version_minor": 0
      },
      "text/plain": [
       "Output()"
      ]
     },
     "metadata": {},
     "output_type": "display_data"
    }
   ],
   "source": [
    "# Example 1: 查看特定赛季的比赛\n",
    "interactive_debugger(season=\"20222023\")"
   ]
  },
  {
   "cell_type": "code",
   "execution_count": 11,
   "id": "688263bc",
   "metadata": {},
   "outputs": [
    {
     "data": {
      "application/vnd.jupyter.widget-view+json": {
       "model_id": "c505ffdfcfd84e0ab3a0b804f31d948a",
       "version_major": 2,
       "version_minor": 0
      },
      "text/plain": [
       "interactive(children=(Dropdown(description='Game 比赛:', options=('2016020001', '2016020002', '2016020003', '201…"
      ]
     },
     "metadata": {},
     "output_type": "display_data"
    },
    {
     "data": {
      "application/vnd.jupyter.widget-view+json": {
       "model_id": "9ea663ad82024c39b12e36f1b1c32d74",
       "version_major": 2,
       "version_minor": 0
      },
      "text/plain": [
       "Output()"
      ]
     },
     "metadata": {},
     "output_type": "display_data"
    }
   ],
   "source": [
    "# Example 2: 查看所有本地比赛数据\n",
    "interactive_debugger(all_games=True)"
   ]
  },
  {
   "cell_type": "markdown",
   "id": "95aaf814",
   "metadata": {},
   "source": [
    "---\n",
    "### ✅ 使用说明 / Usage Guide\n",
    "- 下拉菜单选择比赛 Game ID\n",
    "- 下拉菜单选择事件类型 Event Type (`goal`, `shot-on-goal`, etc.)\n",
    "- 滑块控制比赛节次 Period\n",
    "- 图上红点代表事件坐标，文字显示前 5 个事件详情\n",
    "\n",
    "🎯 **Tip**: you can zoom or pan inside Jupyter's output cell to inspect coordinates more closely."
   ]
  }
 ],
 "metadata": {
  "kernelspec": {
   "display_name": "Python 3",
   "language": "python",
   "name": "python3"
  },
  "language_info": {
   "codemirror_mode": {
    "name": "ipython",
    "version": 3
   },
   "file_extension": ".py",
   "mimetype": "text/x-python",
   "name": "python",
   "nbconvert_exporter": "python",
   "pygments_lexer": "ipython3",
   "version": "3.14.0"
  }
 },
 "nbformat": 4,
 "nbformat_minor": 5
}
